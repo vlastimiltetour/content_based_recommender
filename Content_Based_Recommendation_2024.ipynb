{
  "nbformat": 4,
  "nbformat_minor": 0,
  "metadata": {
    "colab": {
      "provenance": [],
      "authorship_tag": "ABX9TyMbErwO0uoYxRdHnKYN8e7Q",
      "include_colab_link": true
    },
    "kernelspec": {
      "name": "python3",
      "display_name": "Python 3"
    },
    "language_info": {
      "name": "python"
    },
    "widgets": {
      "application/vnd.jupyter.widget-state+json": {
        "e9f0919a01474a59bbbcd8cdb3b59187": {
          "model_module": "@jupyter-widgets/controls",
          "model_name": "TextModel",
          "model_module_version": "1.5.0",
          "state": {
            "_dom_classes": [],
            "_model_module": "@jupyter-widgets/controls",
            "_model_module_version": "1.5.0",
            "_model_name": "TextModel",
            "_view_count": null,
            "_view_module": "@jupyter-widgets/controls",
            "_view_module_version": "1.5.0",
            "_view_name": "TextView",
            "continuous_update": true,
            "description": "Insert Product ID:",
            "description_tooltip": null,
            "disabled": false,
            "layout": "IPY_MODEL_19f033ffc5dc4132a15864d07d592b2d",
            "placeholder": "​",
            "style": "IPY_MODEL_338bd70c11e745a69bb94fca8639d45a",
            "value": "25"
          }
        },
        "19f033ffc5dc4132a15864d07d592b2d": {
          "model_module": "@jupyter-widgets/base",
          "model_name": "LayoutModel",
          "model_module_version": "1.2.0",
          "state": {
            "_model_module": "@jupyter-widgets/base",
            "_model_module_version": "1.2.0",
            "_model_name": "LayoutModel",
            "_view_count": null,
            "_view_module": "@jupyter-widgets/base",
            "_view_module_version": "1.2.0",
            "_view_name": "LayoutView",
            "align_content": null,
            "align_items": null,
            "align_self": null,
            "border": null,
            "bottom": null,
            "display": null,
            "flex": null,
            "flex_flow": null,
            "grid_area": null,
            "grid_auto_columns": null,
            "grid_auto_flow": null,
            "grid_auto_rows": null,
            "grid_column": null,
            "grid_gap": null,
            "grid_row": null,
            "grid_template_areas": null,
            "grid_template_columns": null,
            "grid_template_rows": null,
            "height": null,
            "justify_content": null,
            "justify_items": null,
            "left": null,
            "margin": null,
            "max_height": null,
            "max_width": null,
            "min_height": null,
            "min_width": null,
            "object_fit": null,
            "object_position": null,
            "order": null,
            "overflow": null,
            "overflow_x": null,
            "overflow_y": null,
            "padding": null,
            "right": null,
            "top": null,
            "visibility": null,
            "width": null
          }
        },
        "338bd70c11e745a69bb94fca8639d45a": {
          "model_module": "@jupyter-widgets/controls",
          "model_name": "DescriptionStyleModel",
          "model_module_version": "1.5.0",
          "state": {
            "_model_module": "@jupyter-widgets/controls",
            "_model_module_version": "1.5.0",
            "_model_name": "DescriptionStyleModel",
            "_view_count": null,
            "_view_module": "@jupyter-widgets/base",
            "_view_module_version": "1.2.0",
            "_view_name": "StyleView",
            "description_width": ""
          }
        },
        "12b0bb262bc7432db9443449343d1876": {
          "model_module": "@jupyter-widgets/output",
          "model_name": "OutputModel",
          "model_module_version": "1.0.0",
          "state": {
            "_dom_classes": [],
            "_model_module": "@jupyter-widgets/output",
            "_model_module_version": "1.0.0",
            "_model_name": "OutputModel",
            "_view_count": null,
            "_view_module": "@jupyter-widgets/output",
            "_view_module_version": "1.0.0",
            "_view_name": "OutputView",
            "layout": "IPY_MODEL_bf7d9499bef74fc98402c94db6f849c9",
            "msg_id": "",
            "outputs": [
              {
                "output_type": "stream",
                "name": "stdout",
                "text": [
                  "Product ID entered: 25\n"
                ]
              },
              {
                "output_type": "display_data",
                "data": {
                  "text/plain": "'Error: index 0 is out of bounds for axis 0 with size 0'",
                  "application/vnd.google.colaboratory.intrinsic+json": {
                    "type": "string"
                  }
                },
                "metadata": {}
              }
            ]
          }
        },
        "bf7d9499bef74fc98402c94db6f849c9": {
          "model_module": "@jupyter-widgets/base",
          "model_name": "LayoutModel",
          "model_module_version": "1.2.0",
          "state": {
            "_model_module": "@jupyter-widgets/base",
            "_model_module_version": "1.2.0",
            "_model_name": "LayoutModel",
            "_view_count": null,
            "_view_module": "@jupyter-widgets/base",
            "_view_module_version": "1.2.0",
            "_view_name": "LayoutView",
            "align_content": null,
            "align_items": null,
            "align_self": null,
            "border": null,
            "bottom": null,
            "display": null,
            "flex": null,
            "flex_flow": null,
            "grid_area": null,
            "grid_auto_columns": null,
            "grid_auto_flow": null,
            "grid_auto_rows": null,
            "grid_column": null,
            "grid_gap": null,
            "grid_row": null,
            "grid_template_areas": null,
            "grid_template_columns": null,
            "grid_template_rows": null,
            "height": null,
            "justify_content": null,
            "justify_items": null,
            "left": null,
            "margin": null,
            "max_height": null,
            "max_width": null,
            "min_height": null,
            "min_width": null,
            "object_fit": null,
            "object_position": null,
            "order": null,
            "overflow": null,
            "overflow_x": null,
            "overflow_y": null,
            "padding": null,
            "right": null,
            "top": null,
            "visibility": null,
            "width": null
          }
        }
      }
    }
  },
  "cells": [
    {
      "cell_type": "markdown",
      "metadata": {
        "id": "view-in-github",
        "colab_type": "text"
      },
      "source": [
        "<a href=\"https://colab.research.google.com/github/vlastimiltetour/content_based_recommender/blob/main/Content_Based_Recommendation_2024.ipynb\" target=\"_parent\"><img src=\"https://colab.research.google.com/assets/colab-badge.svg\" alt=\"Open In Colab\"/></a>"
      ]
    },
    {
      "cell_type": "code",
      "source": [
        "#https://www.kaggle.com/code/shawamar/product-recommendation-system-for-e-commerce\n",
        "!pip install requests lxml"
      ],
      "metadata": {
        "colab": {
          "base_uri": "https://localhost:8080/"
        },
        "id": "TuisNaX8ZMQc",
        "outputId": "8bc44f70-6fc8-4744-bd20-ac12b1ecd232"
      },
      "execution_count": 5,
      "outputs": [
        {
          "output_type": "stream",
          "name": "stdout",
          "text": [
            "Requirement already satisfied: requests in /usr/local/lib/python3.10/dist-packages (2.32.3)\n",
            "Requirement already satisfied: lxml in /usr/local/lib/python3.10/dist-packages (4.9.4)\n",
            "Requirement already satisfied: charset-normalizer<4,>=2 in /usr/local/lib/python3.10/dist-packages (from requests) (3.3.2)\n",
            "Requirement already satisfied: idna<4,>=2.5 in /usr/local/lib/python3.10/dist-packages (from requests) (3.7)\n",
            "Requirement already satisfied: urllib3<3,>=1.21.1 in /usr/local/lib/python3.10/dist-packages (from requests) (2.0.7)\n",
            "Requirement already satisfied: certifi>=2017.4.17 in /usr/local/lib/python3.10/dist-packages (from requests) (2024.7.4)\n"
          ]
        }
      ]
    },
    {
      "cell_type": "code",
      "source": [
        "import pandas\n",
        "#%pip install pandas\n",
        "# Library for text feature extraction\n",
        "from sklearn.feature_extraction.text import TfidfVectorizer, CountVectorizer\n",
        "\n",
        "# Library for finding nearest neighbors based on input data\n",
        "from sklearn.neighbors import NearestNeighbors\n",
        "\n",
        "# Library for performing K-means clustering\n",
        "from sklearn.cluster import KMeans\n",
        "\n",
        "# Library for evaluating the similarity between true and predicted clusters\n",
        "from sklearn.metrics import adjusted_rand_score\n",
        "\n",
        "import requests\n",
        "import xml.etree.ElementTree as ET\n",
        "from lxml import etree\n",
        "\n",
        "import pandas as pd\n",
        "\n",
        "from sklearn.feature_extraction.text import TfidfVectorizer, CountVectorizer\n",
        "from sklearn.neighbors import NearestNeighbors\n",
        "from sklearn.cluster import KMeans\n",
        "from sklearn.metrics import adjusted_rand_score\n",
        "from matplotlib import pyplot as plt"
      ],
      "metadata": {
        "id": "cJ9emI95ZQFs"
      },
      "execution_count": 6,
      "outputs": []
    },
    {
      "cell_type": "code",
      "source": [
        "#get the product feed data\n",
        "\n",
        "url = 'https://www.efirthebrand.cz/product_feed'  # Replace with your XML feed URL\n",
        "response = requests.get(url)\n",
        "\n",
        "# Check if the request was successful\n",
        "if response.status_code == 200:\n",
        "  feed_data = response.content\n",
        "else:\n",
        "  print(\"Failed to retrieve XML data\")\n",
        "if feed_data:\n",
        "  root = ET.fromstring(feed_data)\n",
        "\n",
        "  data = []\n",
        "\n",
        "  for item in root.findall('.//SHOPITEM'):\n",
        "      item_id = item.find('ITEM_ID').text\n",
        "      product_name = item.find('PRODUCTNAME').text\n",
        "      product = item.find('PRODUCT').text\n",
        "      category_text = item.find('CATEGORYTEXT').text\n",
        "      description = item.find('DESCRIPTION').text\n",
        "      img_url = item.find('IMGURL').text\n",
        "      price_vat = item.find('PRICE_VAT').text\n",
        "\n",
        "\n",
        "      data.append({\n",
        "          \"ID\": item_id,\n",
        "          \"PRODUCTNAME\": product_name,\n",
        "          \"PRODUCT\": product,\n",
        "          \"CATEGORYTEXT\": category_text,\n",
        "          \"DESCRIPTION\": description,\n",
        "          \"IMGURL\": img_url,\n",
        "          \"PRICE_VAT\": price_vat\n",
        "      })\n",
        "\n",
        "  df = pd.DataFrame(data)\n",
        "\n",
        "  print(df)\n",
        "\n",
        "  df\n",
        "  #dataframe characteristics\n",
        "\n",
        "\n",
        "\n"
      ],
      "metadata": {
        "colab": {
          "base_uri": "https://localhost:8080/"
        },
        "id": "NMXlZDX-ZSKN",
        "outputId": "98ae5355-13b9-4eab-9046-904b64b36cf5"
      },
      "execution_count": 7,
      "outputs": [
        {
          "output_type": "stream",
          "name": "stdout",
          "text": [
            "      ID    PRODUCTNAME        PRODUCT     CATEGORYTEXT  \\\n",
            "0    140       Afrodita       Afrodita       Podprsenky   \n",
            "1    142       Afrodita       Afrodita  Podvazkové pasy   \n",
            "2    141       Afrodita       Afrodita         Kalhotky   \n",
            "3    194  Afrodita blue  Afrodita blue       Podprsenky   \n",
            "4    193  Afrodita blue  Afrodita blue         Kalhotky   \n",
            "..   ...            ...            ...              ...   \n",
            "133   71           Wine           Wine         Kalhotky   \n",
            "134   72           Wine           Wine         Kalhotky   \n",
            "135   69           Wine           Wine       Podprsenky   \n",
            "136   73           Wine           Wine  Podvazkové pasy   \n",
            "137   70           Wine           Wine         Kalhotky   \n",
            "\n",
            "                                           DESCRIPTION  \\\n",
            "0    Podprsenka je téměř celá krajková, s doplněním...   \n",
            "1    Podvazkový pas je navržen tak, aby podtrhl a z...   \n",
            "2    Kalhotky brazilky jsou nejenom nejpopulárnější...   \n",
            "3    Podprsenka Afrodita Blue je mistrovským dílem ...   \n",
            "4    Kalhotky brazilky Afrodita Blue jsou symbolem ...   \n",
            "..                                                 ...   \n",
            "133  Exkluzivní vysoká tanga v bohaté vínové barvě ...   \n",
            "134  Brazilky z exkluzivní krajky v bohaté barvě ví...   \n",
            "135  Exkluzivní podprsenka na kosticích v bohaté a ...   \n",
            "136  Podvazkový pás v barvě wine s luxusní krajkou ...   \n",
            "137  Exclusivní V-string kalhotky v bohaté vínové k...   \n",
            "\n",
            "                                                IMGURL PRICE_VAT  \n",
            "0    https://etb.fra1.digitaloceanspaces.com/etb/me...      1450  \n",
            "1    https://etb.fra1.digitaloceanspaces.com/etb/me...      1020  \n",
            "2    https://etb.fra1.digitaloceanspaces.com/etb/me...       790  \n",
            "3    https://etb.fra1.digitaloceanspaces.com/etb/me...      1450  \n",
            "4    https://etb.fra1.digitaloceanspaces.com/etb/me...       790  \n",
            "..                                                 ...       ...  \n",
            "133  https://etb.fra1.digitaloceanspaces.com/etb/me...       740  \n",
            "134  https://etb.fra1.digitaloceanspaces.com/etb/me...       790  \n",
            "135  https://etb.fra1.digitaloceanspaces.com/etb/me...      1490  \n",
            "136  https://etb.fra1.digitaloceanspaces.com/etb/me...      1060  \n",
            "137  https://etb.fra1.digitaloceanspaces.com/etb/me...       740  \n",
            "\n",
            "[138 rows x 7 columns]\n"
          ]
        }
      ]
    },
    {
      "cell_type": "code",
      "source": [
        "#remove darkove certifikaty form the df\n",
        "df = df[df[\"CATEGORYTEXT\"].str.contains(\"Dárkové certifikáty\") == False]\n",
        "print('Shape of ratings dataset is: ',df.shape, '\\n')\n",
        "print('Max values in dataset are \\n',df['PRICE_VAT'].max(), '\\n')\n",
        "print('Min values in dataset are \\n',df['PRICE_VAT'].min(), '\\n')\n",
        "df['CATEGORYTEXT'].value_counts().plot(kind='bar')\n",
        "\n",
        "df[\"DESCRIPTION\"].shape\n",
        "df[\"DESCRIPTION\"].head()\n",
        "\n",
        "#fill emtpy\n",
        "df.fillna({'DESCRIPTION':''}, inplace=True)\n"
      ],
      "metadata": {
        "colab": {
          "base_uri": "https://localhost:8080/",
          "height": 698
        },
        "id": "crYx7W5ezmO5",
        "outputId": "dadb6a80-d18d-42d7-8024-575cb9ab80b1"
      },
      "execution_count": 8,
      "outputs": [
        {
          "output_type": "stream",
          "name": "stdout",
          "text": [
            "Shape of ratings dataset is:  (130, 7) \n",
            "\n",
            "Max values in dataset are \n",
            " 960 \n",
            "\n",
            "Min values in dataset are \n",
            " 1010 \n",
            "\n"
          ]
        },
        {
          "output_type": "display_data",
          "data": {
            "text/plain": [
              "<Figure size 640x480 with 1 Axes>"
            ],
            "image/png": "[encoded data removed]"
          },
          "metadata": {}
        }
      ]
    },
    {
      "cell_type": "code",
      "source": [
        "#add stop words\n",
        "cz_stop_words = [\"ačkoli\", \"ahoj\", \"ale\", \"anebo\", \"ano\", \"asi\", \"aspoň\", \"během\", \"bez\", \"beze\",\n",
        "             \"blízko\", \"bohužel\", \"brzo\", \"bude\", \"budeme\", \"budeš\", \"budete\", \"budou\", \"budu\",\n",
        "             \"byl\", \"byla\", \"byli\", \"bylo\", \"byly\", \"bys\", \"čau\", \"chce\", \"chceme\", \"chceš\", \"chcete\",\n",
        "             \"chci\", \"chtějí\", \"chtít\", \"chut'\", \"chuti\", \"co\", \"čtrnáct\", \"čtyři\", \"dál\", \"dále\", \"daleko\",\n",
        "             \"děkovat\", \"děkujeme\", \"děkuji\", \"den\", \"deset\", \"devatenáct\", \"devět\", \"do\", \"dobrý\", \"docela\",\n",
        "             \"dva\", \"dvacet\", \"dvanáct\", \"dvě\", \"hodně\", \"já\", \"jak\", \"jde\", \"je\", \"jeden\", \"jedenáct\", \"jedna\",\n",
        "             \"jedno\", \"jednou\", \"jedou\", \"jeho\", \"její\", \"jejich\", \"jemu\", \"jen\", \"jenom\", \"ještě\", \"jestli\",\n",
        "             \"jestliže\", \"jí\", \"jich\", \"jím\", \"jimi\", \"jinak\", \"jsem\", \"jsi\", \"jsme\", \"jsou\", \"jste\", \"kam\", \"kde\",\n",
        "             \"kdo\", \"kdy\", \"když\", \"ke\", \"kolik\", \"kromě\", \"která\", \"které\", \"kteří\", \"který\", \"kvůli\", \"má\", \"mají\",\n",
        "             \"málo\", \"mám\", \"máme\", \"máš\", \"máte\", \"mé\", \"mě\", \"mezi\", \"mí\", \"mít\", \"mně\", \"mnou\", \"moc\", \"mohl\",\n",
        "             \"mohou\", \"moje\", \"moji\", \"možná\", \"můj\", \"musí\", \"může\", \"my\", \"na\", \"nad\", \"nade\", \"nám\", \"námi\",\n",
        "             \"naproti\", \"nás\", \"náš\", \"naše\", \"naši\", \"ne\", \"ně\", \"nebo\", \"nebyl\", \"nebyla\", \"nebyli\", \"nebyly\",\n",
        "             \"něco\", \"nedělá\", \"nedělají\", \"nedělám\", \"neděláme\", \"neděláš\", \"neděláte\", \"nějak\", \"nejsi\", \"někde\",\n",
        "             \"někdo\", \"nemají\", \"nemáme\", \"nemáte\", \"neměl\", \"němu\", \"není\", \"nestačí\", \"nevadí\", \"než\", \"nic\", \"nich\",\n",
        "             \"ním\", \"nimi\", \"nula\", \"od\", \"ode\", \"on\", \"ona\", \"oni\", \"ono\", \"ony\", \"osm\", \"osmnáct\", \"pak\", \"patnáct\",\n",
        "             \"pět\", \"po\", \"pořád\", \"potom\", \"pozdě\", \"před\", \"přes\", \"přese\", \"pro\", \"proč\", \"prosím\", \"prostě\", \"proti\",\n",
        "             \"protože\", \"rovně\", \"se\", \"sedm\", \"sedmnáct\", \"šest\", \"šestnáct\", \"skoro\", \"smějí\", \"smí\", \"snad\", \"spolu\",\n",
        "             \"sta\", \"sté\", \"sto\", \"ta\", \"tady\", \"tak\", \"takhle\", \"taky\", \"tam\", \"tamhle\", \"tamhleto\", \"tamto\", \"tě\",\n",
        "             \"tebe\", \"tebou\", \"ted'\", \"tedy\", \"ten\", \"ti\", \"tisíc\", \"tisíce\", \"to\", \"tobě\", \"tohle\", \"toto\", \"třeba\",\n",
        "             \"tři\", \"třináct\", \"trošku\", \"tvá\", \"tvé\", \"tvoje\", \"tvůj\", \"ty\", \"určitě\", \"už\", \"vám\", \"vámi\", \"vás\",\n",
        "             \"váš\", \"vaše\", \"vaši\", \"ve\", \"večer\", \"vedle\", \"vlastně\", \"všechno\", \"všichni\", \"vůbec\", \"vy\", \"vždy\", \"za\",\n",
        "             \"zač\", \"zatímco\", \"ze\", \"že\", \"aby\", \"aj\", \"ani\", \"az\", \"budem\", \"budes\", \"by\", \"byt\", \"ci\", \"clanek\",\n",
        "             \"clanku\", \"clanky\", \"coz\", \"cz\", \"dalsi\", \"design\", \"dnes\", \"email\", \"ho\", \"jako\", \"jej\", \"jeji\", \"jeste\",\n",
        "             \"ji\", \"jine\", \"jiz\", \"jses\", \"kdyz\", \"ktera\", \"ktere\", \"kteri\", \"kterou\", \"ktery\", \"ma\", \"mate\", \"mi\", \"mit\",\n",
        "             \"muj\", \"muze\", \"nam\", \"napiste\", \"nas\", \"nasi\", \"nejsou\", \"neni\", \"nez\", \"nove\", \"novy\", \"pod\", \"podle\",\n",
        "             \"pokud\", \"pouze\", \"prave\", \"pred\", \"pres\", \"pri\", \"proc\", \"proto\", \"protoze\", \"prvni\", \"pta\", \"re\", \"si\",\n",
        "             \"strana\", \"sve\", \"svych\", \"svym\", \"svymi\", \"take\", \"takze\", \"tato\", \"tema\", \"tento\", \"teto\", \"tim\", \"timto\",\n",
        "             \"tipy\", \"toho\", \"tohoto\", \"tom\", \"tomto\", \"tomuto\", \"tu\", \"tuto\", \"tyto\", \"uz\", \"vam\", \"vas\", \"vase\", \"vice\",\n",
        "             \"vsak\", \"zda\", \"zde\", \"zpet\", \"zprávy\"]"
      ],
      "metadata": {
        "id": "_u6AOsgfZf5Z"
      },
      "execution_count": 9,
      "outputs": []
    },
    {
      "cell_type": "code",
      "source": [
        "#create a vectorizer matrix\n",
        "vectorizer = TfidfVectorizer(stop_words=cz_stop_words)\n",
        "#\n",
        "matrix = vectorizer.fit_transform(df[\"DESCRIPTION\"])\n",
        "matrix\n",
        "visualized_m=matrix\n",
        "kmeans = KMeans(n_clusters = 20, init = 'k-means++')\n",
        "y_kmeans = kmeans.fit_predict(visualized_m)\n",
        "plt.plot(y_kmeans, \".\")\n",
        "plt.show()\n",
        "true_k = 18\n",
        "\n",
        "model = KMeans(n_clusters=true_k, init='k-means++', max_iter=100, n_init=1)\n",
        "model.fit(matrix)\n",
        "\n",
        "print(\"Top terms per cluster:\")\n",
        "order_centroids = model.cluster_centers_.argsort()[:, ::-1]\n",
        "terms = vectorizer.get_feature_names_out()\n",
        "\n",
        "\n",
        "df[\"cluster_labels\"] = kmeans.labels_\n",
        "df.sort_values(by=\"cluster_labels\", ascending=True)\n",
        "df[\"cluster_labels\"].value_counts()\n",
        "def show_recommendations(product_id):\n",
        "    # Get the product description using the product ID\n",
        "    product_name = df[df[\"ID\"] == product_id][\"PRODUCTNAME\"].values[0]\n",
        "    product_desc = df[df[\"ID\"] == product_id][\"DESCRIPTION\"].values[0]\n",
        "\n",
        "    # Transform the product description to a vector representation\n",
        "    Y = vectorizer.transform([product_desc])\n",
        "\n",
        "    # Predict the cluster for the product\n",
        "    prediction = model.predict(Y)\n",
        "    first_prediction = prediction[0]\n",
        "\n",
        "    # Find products in the same cluster\n",
        "    recommended_products_df = df[df['cluster_labels'] == first_prediction]\n",
        "\n",
        "    # Optionally remove the input product from the recommendations, if it's in the list\n",
        "    if product_id in recommended_products_df[\"ID\"].values:\n",
        "        recommended_products_df = recommended_products_df[recommended_products_df[\"ID\"] != product_id]\n",
        "\n",
        "    # Get the top 5 recommended products\n",
        "    recommended_products = recommended_products_df[[\"ID\", \"PRODUCTNAME\", \"DESCRIPTION\"]]\n",
        "\n",
        "    return product_name, recommended_products\n",
        "\n",
        "# Example usage:\n",
        "product_name, recommendations = show_recommendations(\"50\")\n",
        "print(f\"Product: {product_name}\")\n",
        "print(\"Recommendations:\")\n",
        "print(recommendations)"
      ],
      "metadata": {
        "colab": {
          "base_uri": "https://localhost:8080/",
          "height": 879
        },
        "id": "dehGui3qcrm8",
        "outputId": "82c9c3b9-463b-4e97-8f98-dbab5071f6a9"
      },
      "execution_count": 10,
      "outputs": [
        {
          "output_type": "stream",
          "name": "stderr",
          "text": [
            "/usr/local/lib/python3.10/dist-packages/sklearn/feature_extraction/text.py:408: UserWarning: Your stop_words may be inconsistent with your preprocessing. Tokenizing the stop words generated tokens ['chut', 'ted'] not in stop_words.\n",
            "  warnings.warn(\n",
            "/usr/local/lib/python3.10/dist-packages/sklearn/cluster/_kmeans.py:1416: FutureWarning: The default value of `n_init` will change from 10 to 'auto' in 1.4. Set the value of `n_init` explicitly to suppress the warning\n",
            "  super()._check_params_vs_input(X, default_n_init=10)\n"
          ]
        },
        {
          "output_type": "display_data",
          "data": {
            "text/plain": [
              "<Figure size 640x480 with 1 Axes>"
            ],
            "image/png": "[encoded data removed]"
          },
          "metadata": {}
        },
        {
          "output_type": "stream",
          "name": "stdout",
          "text": [
            "Top terms per cluster:\n",
            "Product: Chantilly red\n",
            "Recommendations:\n",
            "      ID   PRODUCTNAME                                        DESCRIPTION\n",
            "8     87        Andrea  Podprsenka s kosticemi v něžně růžové barvě sp...\n",
            "10    88        Andrea  Podprsenka bez kostic v něžně růžové barvě s e...\n",
            "15   101      Atlantis  Podprsenková skvost v zářivé královské modré b...\n",
            "21    60         Bordo  Naše podprsenka v bohaté bordó elastické krajc...\n",
            "39    97        Cherry  Podprsenka s kosticemi spojuje eleganci krajky...\n",
            "70    84         Lilit  Vysoká tanga s exkluzivní krajkou v černém vzo...\n",
            "72    91  Moulin Rouge  Podprsenka na kosticích v vášnivé červené barv...\n",
            "83    47         Oceán  Podprsenka s kosticemi v zajímavé petrolejové ...\n",
            "85    48     Oceán set  Podprsenka s kosticemi v zajímavé petrolejové ...\n",
            "86     3      Orchidej  Podprsenka s kosticemi v černé krajkové elegan...\n",
            "111   65           Sky  Brazilky v jemné světle modré krajce s elastic...\n",
            "112   63           Sky  Podprsenka s kosticemi v jemné světle modré kr...\n",
            "115   66           Sky  Vysoká tanga v jemné světle modré krajce s ela...\n",
            "132   74          Wine  Exkluzivní set spodního prádla v bohaté vínové...\n",
            "133   71          Wine  Exkluzivní vysoká tanga v bohaté vínové barvě ...\n",
            "135   69          Wine  Exkluzivní podprsenka na kosticích v bohaté a ...\n"
          ]
        }
      ]
    },
    {
      "cell_type": "code",
      "source": [
        "import ipywidgets as widgets\n",
        "from IPython.display import display\n",
        "\n",
        "product_id_input = widgets.Text(\n",
        "    value='',\n",
        "    description='Insert Product ID:',\n",
        "    disabled=False\n",
        ")\n",
        "\n",
        "recommendation_list = widgets.Output()\n",
        "\n",
        "def on_type(change):\n",
        "    with recommendation_list:\n",
        "        recommendation_list.clear_output()\n",
        "        product_id = change['new']\n",
        "        print(f\"Product ID entered: {product_id}\")\n",
        "        try:\n",
        "            recommendations = show_recommendations(str(product_id))\n",
        "            if recommendations:\n",
        "                display(recommendations)\n",
        "            else:\n",
        "                display(\"No recommendations available.\")\n",
        "        except Exception as e:\n",
        "            display(f\"Error: {e}\")\n",
        "\n",
        "product_id_input.observe(on_type, names='value')\n",
        "\n",
        "display(product_id_input, recommendation_list)\n",
        "\n",
        "import matplotlib.pyplot as plt\n",
        "from sklearn.cluster import KMeans\n",
        "\n",
        "# Assuming 'df' is your DataFrame and 'vectorizer' is already defined and fitted.\n",
        "# 'DESCRIPTION' column contains the text data to be vectorized.\n",
        "\n",
        "# Step 1: Transform the descriptions to vector representations\n",
        "X = vectorizer.transform(df['DESCRIPTION'])\n",
        "\n",
        "# Step 2: Compute k-means for a range of k values\n",
        "inertia = []\n",
        "K = range(1, 18)  # You can adjust the range based on your dataset\n",
        "\n",
        "for k in K:\n",
        "    kmeans = KMeans(n_clusters=k, random_state=42)\n",
        "    kmeans.fit(X)\n",
        "    inertia.append(kmeans.inertia_)\n",
        "\n",
        "# Step 3: Plot the elbow curve\n",
        "plt.figure(figsize=(10, 6))\n",
        "plt.plot(K, inertia, 'bo-')\n",
        "plt.xlabel('Number of clusters (k)')\n",
        "plt.ylabel('Inertia')\n",
        "plt.title('Elbow Method for Optimal k')\n",
        "plt.show()"
      ],
      "metadata": {
        "id": "R8hiBB7Q52jf",
        "collapsed": true,
        "colab": {
          "base_uri": "https://localhost:8080/",
          "height": 688,
          "referenced_widgets": [
            "e9f0919a01474a59bbbcd8cdb3b59187",
            "19f033ffc5dc4132a15864d07d592b2d",
            "338bd70c11e745a69bb94fca8639d45a",
            "12b0bb262bc7432db9443449343d1876",
            "bf7d9499bef74fc98402c94db6f849c9"
          ]
        },
        "outputId": "89be2843-7593-4088-e029-e28e40f28172"
      },
      "execution_count": 13,
      "outputs": [
        {
          "output_type": "display_data",
          "data": {
            "text/plain": [
              "Text(value='', description='Insert Product ID:')"
            ],
            "application/vnd.jupyter.widget-view+json": {
              "version_major": 2,
              "version_minor": 0,
              "model_id": "e9f0919a01474a59bbbcd8cdb3b59187"
            }
          },
          "metadata": {}
        },
        {
          "output_type": "display_data",
          "data": {
            "text/plain": [
              "Output()"
            ],
            "application/vnd.jupyter.widget-view+json": {
              "version_major": 2,
              "version_minor": 0,
              "model_id": "12b0bb262bc7432db9443449343d1876"
            }
          },
          "metadata": {}
        },
        {
          "output_type": "stream",
          "name": "stderr",
          "text": [
            "/usr/local/lib/python3.10/dist-packages/sklearn/cluster/_kmeans.py:1416: FutureWarning: The default value of `n_init` will change from 10 to 'auto' in 1.4. Set the value of `n_init` explicitly to suppress the warning\n",
            "  super()._check_params_vs_input(X, default_n_init=10)\n"
          ]
        },
        {
          "output_type": "display_data",
          "data": {
            "text/plain": [
              "<Figure size 1000x600 with 1 Axes>"
            ],
            "image/png": "[encoded data removed]"
          },
          "metadata": {}
        }
      ]
    },
    {
      "cell_type": "code",
      "source": [
        "!pip freeze > requirements.txt"
      ],
      "metadata": {
        "id": "XQ3p9ebC2yVS"
      },
      "execution_count": 12,
      "outputs": []
    }
  ]
}